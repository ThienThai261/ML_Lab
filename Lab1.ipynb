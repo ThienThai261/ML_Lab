{
  "nbformat": 4,
  "nbformat_minor": 0,
  "metadata": {
    "colab": {
      "provenance": [],
      "authorship_tag": "ABX9TyOqFFI7BQLeDLq7Jeine3tE",
      "include_colab_link": true
    },
    "kernelspec": {
      "name": "python3",
      "display_name": "Python 3"
    },
    "language_info": {
      "name": "python"
    }
  },
  "cells": [
    {
      "cell_type": "markdown",
      "metadata": {
        "id": "view-in-github",
        "colab_type": "text"
      },
      "source": [
        "<a href=\"https://colab.research.google.com/github/ThienThai261/ML_Lab/blob/main/Lab1.ipynb\" target=\"_parent\"><img src=\"https://colab.research.google.com/assets/colab-badge.svg\" alt=\"Open In Colab\"/></a>"
      ]
    },
    {
      "cell_type": "markdown",
      "source": [
        "TASK 1.1"
      ],
      "metadata": {
        "id": "4A6lEwK76k9l"
      }
    },
    {
      "cell_type": "code",
      "execution_count": null,
      "metadata": {
        "colab": {
          "base_uri": "https://localhost:8080/"
        },
        "id": "9OFNSJ536i9T",
        "outputId": "c5abef2b-2e18-432f-e418-1ca2c5c209ea"
      },
      "outputs": [
        {
          "name": "stdout",
          "output_type": "stream",
          "text": [
            "enter2\n",
            "enter num1\n",
            "enter num3\n",
            "enter num8\n"
          ]
        },
        {
          "output_type": "execute_result",
          "data": {
            "text/plain": [
              "8"
            ]
          },
          "metadata": {},
          "execution_count": 22
        }
      ],
      "source": [
        "def Max(n):\n",
        "    l = []\n",
        "    while len(l) <= n:\n",
        "        a = int(input(\"enter num\"))\n",
        "        l.append(a)\n",
        "    return max(l)\n",
        "Max(int(input(\"enter\")))\n",
        "\n",
        "\n",
        "\n"
      ]
    },
    {
      "cell_type": "code",
      "source": [
        "def num(n):\n",
        "    l = []\n",
        "    while len(l) < n:\n",
        "        a = int(input(\"Enter a number: \"))\n",
        "        l.append(a)\n",
        "\n",
        "    sorted_list = sorted(l)\n",
        "    print(\"Sorted list:\", sorted_list)\n",
        "    return sorted_list\n",
        "num_elements = int(input(\"Enter the number of elements: \"))\n",
        "num(num_elements)"
      ],
      "metadata": {
        "colab": {
          "base_uri": "https://localhost:8080/"
        },
        "id": "ce1nRQaLADt8",
        "outputId": "982d23bd-fd11-4519-d8b6-abb02ae7f3b5"
      },
      "execution_count": null,
      "outputs": [
        {
          "output_type": "stream",
          "name": "stdout",
          "text": [
            "Enter the number of elements: 3\n",
            "Enter a number: 1\n",
            "Enter a number: 5\n",
            "Enter a number: 4\n",
            "Sorted list: [1, 4, 5]\n"
          ]
        },
        {
          "output_type": "execute_result",
          "data": {
            "text/plain": [
              "[1, 4, 5]"
            ]
          },
          "metadata": {},
          "execution_count": 29
        }
      ]
    },
    {
      "cell_type": "code",
      "source": [
        "def negative(n):\n",
        "    l = []\n",
        "    while len(l) <= n:\n",
        "        a = int(input(\"enter num\"))\n",
        "        l.append(a)\n",
        "    x = 0\n",
        "    y = 0\n",
        "    for i in l :\n",
        "      if i>0 :\n",
        "        x+=1\n",
        "      else:\n",
        "        y+=1\n"
      ],
      "metadata": {
        "id": "weSJacBzDa_0"
      },
      "execution_count": null,
      "outputs": []
    },
    {
      "cell_type": "code",
      "source": [
        "def num(n):\n",
        "    l = []\n",
        "    while len(l) <= n:\n",
        "        a = int(input(\"enter num\"))\n",
        "        l.append(a)\n",
        "    return sum(l)\n",
        "num(int(input(\"enter sum\")))"
      ],
      "metadata": {
        "colab": {
          "base_uri": "https://localhost:8080/"
        },
        "id": "tOIRMqiy_3cb",
        "outputId": "85123a37-6b77-40d5-fd9e-b72b7d955cee"
      },
      "execution_count": null,
      "outputs": [
        {
          "name": "stdout",
          "output_type": "stream",
          "text": [
            "enter sum32\n",
            "enter num1\n",
            "enter num2\n",
            "enter num3\n"
          ]
        },
        {
          "output_type": "execute_result",
          "data": {
            "text/plain": [
              "6"
            ]
          },
          "metadata": {},
          "execution_count": 21
        }
      ]
    },
    {
      "cell_type": "markdown",
      "source": [
        "TASK 1.2"
      ],
      "metadata": {
        "id": "iogeY-WDFKrM"
      }
    },
    {
      "cell_type": "code",
      "source": [
        "def sumfor(n):\n",
        "  result =0\n",
        "  op=1\n",
        "  for i in range (1,n+1):\n",
        "    op*=i\n",
        "    result +=op\n",
        "\n",
        "  print(result)\n",
        "\n",
        "sumfor(4)"
      ],
      "metadata": {
        "colab": {
          "base_uri": "https://localhost:8080/"
        },
        "id": "dmE_w2QbFN6L",
        "outputId": "c0156385-e758-4004-bce2-5690bffb6b83"
      },
      "execution_count": null,
      "outputs": [
        {
          "output_type": "stream",
          "name": "stdout",
          "text": [
            "33\n"
          ]
        }
      ]
    },
    {
      "cell_type": "markdown",
      "source": [
        "TASK 1.3"
      ],
      "metadata": {
        "id": "vkQrQm3s4Ux1"
      }
    },
    {
      "cell_type": "code",
      "source": [
        "class Account():\n",
        "    def __init__(self, name, email, country, friends, posts):\n",
        "        self.__name = name\n",
        "        self.__email = email\n",
        "        self.__country = country\n",
        "        self.__friends = friends\n",
        "        self.__posts = posts\n",
        "\n",
        "    def maxPost(self):\n",
        "        max_post = self.__posts[0]\n",
        "        for post in self.__posts:\n",
        "            if post > max_post:\n",
        "                max_post = post\n",
        "        return max_pos\n",
        "\n",
        "    def hadPopularPost(self):\n",
        "        return any(post.likes >= 10 for post in self.__posts)\n",
        "\n",
        "    def numPosts(self):\n",
        "        return len(self.__posts)\n",
        "\n",
        "    def getCountry(self):\n",
        "        return self.__country\n",
        "\n",
        "    def getName(self):\n",
        "        return self.__name\n",
        "\n",
        "class Post():\n",
        "  def __init__(self, content, subject, likes):\n",
        "    self.__content = content\n",
        "    self.__subject = subject\n",
        "    self.__likes = likes\n",
        "\n",
        "\n",
        "\n",
        "\n",
        "class AccountManager():\n",
        "  def __init__(self, accounts):\n",
        "    self.__accounts = accounts\n",
        "\n",
        "  def groupAccountsByPostLike(self):\n",
        "        return {\n",
        "            account.numPosts() >= 10: account for account in self.__accounts\n",
        "        }\n",
        "  def filterAccounts(self, country):\n",
        "        # Filter accounts by country\n",
        "        filtered_accounts = [account for account in self.__accounts if account.getCountry() == country]\n",
        "\n",
        "        # Sort filtered accounts by number of posts (descending order), then by name (ascending order)\n",
        "        sorted_accounts = sorted(filtered_accounts, key=lambda account: (-account.getNumPosts(), account.getName()))\n",
        "\n",
        "        return sorted_accounts"
      ],
      "metadata": {
        "id": "aSo-qQa-4XIg"
      },
      "execution_count": null,
      "outputs": []
    },
    {
      "cell_type": "markdown",
      "source": [
        "TASK 2.1\n"
      ],
      "metadata": {
        "id": "BVdWWPqPI5T8"
      }
    },
    {
      "cell_type": "code",
      "source": [
        "import numpy as np\n",
        "def makeArray():\n",
        " arr = np.arange(10,25,1)\n",
        " print (arr)\n",
        " result = np.flip(arr)\n",
        " print(result)\n",
        "makeArray()"
      ],
      "metadata": {
        "colab": {
          "base_uri": "https://localhost:8080/"
        },
        "id": "deAx6wjfI8Uc",
        "outputId": "6aeca259-ac4d-4f2c-c9b9-e6180bfe3525"
      },
      "execution_count": null,
      "outputs": [
        {
          "output_type": "stream",
          "name": "stdout",
          "text": [
            "[10 11 12 13 14 15 16 17 18 19 20 21 22 23 24]\n",
            "[24 23 22 21 20 19 18 17 16 15 14 13 12 11 10]\n"
          ]
        }
      ]
    },
    {
      "cell_type": "markdown",
      "source": [
        "TASK 2.2"
      ],
      "metadata": {
        "id": "aBbZZ4W7KTzM"
      }
    },
    {
      "cell_type": "code",
      "source": [
        "import numpy as np\n",
        "\n",
        "def repeat_array(arr, n):\n",
        "    return np.tile(arr, n)\n",
        "\n",
        "# Example usage:\n",
        "arr = np.array([1, 2, 3, 4])\n",
        "n = 3\n",
        "result = repeat_array(arr, n)\n",
        "print(result)\n"
      ],
      "metadata": {
        "colab": {
          "base_uri": "https://localhost:8080/"
        },
        "id": "Bflwt5gQ0O4L",
        "outputId": "1675e796-952e-41c4-f43f-0ecee9a61594"
      },
      "execution_count": null,
      "outputs": [
        {
          "output_type": "stream",
          "name": "stdout",
          "text": [
            "[1 2 3 4 1 2 3 4 1 2 3 4]\n"
          ]
        }
      ]
    },
    {
      "cell_type": "markdown",
      "source": [
        "TASK 2.3"
      ],
      "metadata": {
        "id": "RU9FKmeA1HSm"
      }
    },
    {
      "cell_type": "code",
      "source": [
        "import numpy as np\n",
        "\n",
        "def replace_values(arr, threshold):\n",
        "    arr[arr < threshold] = threshold\n",
        "    return arr\n",
        "\n",
        "# Input array\n",
        "input_array = np.array([[0.42, 0.48, 0.32],\n",
        "                        [0.74, 0.58, 0.38],\n",
        "                        [0.51, 0.34, 0.15]])\n",
        "\n",
        "print(\"Original array:\")\n",
        "print(input_array)\n",
        "\n",
        "# Specified threshold\n",
        "threshold = 0.5\n",
        "\n",
        "# Replace values less than the threshold\n",
        "output_array = replace_values(input_array, threshold)\n",
        "\n",
        "print(\"Replace all elements of the original array with\", threshold, \"for values which are greater than\", threshold)\n",
        "print(output_array)\n"
      ],
      "metadata": {
        "colab": {
          "base_uri": "https://localhost:8080/"
        },
        "id": "Og7iVWqO0kMv",
        "outputId": "917bfb5a-508e-44c1-fad0-f60385bb7b98"
      },
      "execution_count": null,
      "outputs": [
        {
          "output_type": "stream",
          "name": "stdout",
          "text": [
            "Original array:\n",
            "[[0.42 0.48 0.32]\n",
            " [0.74 0.58 0.38]\n",
            " [0.51 0.34 0.15]]\n",
            "Replace all elements of the original array with 0.5 for values which are greater than 0.5\n",
            "[[0.5  0.5  0.5 ]\n",
            " [0.74 0.58 0.5 ]\n",
            " [0.51 0.5  0.5 ]]\n"
          ]
        }
      ]
    }
  ]
}